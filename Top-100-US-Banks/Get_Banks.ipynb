{
 "cells": [
  {
   "cell_type": "code",
   "execution_count": 1,
   "metadata": {},
   "outputs": [],
   "source": [
    "from urllib.request import urlopen as uReq\n",
    "from bs4 import BeautifulSoup as soup\n",
    "import pandas as pd"
   ]
  },
  {
   "cell_type": "code",
   "execution_count": 2,
   "metadata": {},
   "outputs": [],
   "source": [
    "# Wiki URL\n",
    "en_url = \"https://en.wikipedia.org/wiki/List_of_largest_banks_in_the_United_States\""
   ]
  },
  {
   "cell_type": "code",
   "execution_count": 3,
   "metadata": {},
   "outputs": [],
   "source": [
    "# Openning connection and request page\n",
    "uClient = uReq(en_url)\n",
    "page_html = uClient.read()\n",
    "uClient.close()"
   ]
  },
  {
   "cell_type": "code",
   "execution_count": 4,
   "metadata": {},
   "outputs": [],
   "source": [
    "# Parse HTML\n",
    "page_soup = soup(page_html, \"html.parser\")"
   ]
  },
  {
   "cell_type": "code",
   "execution_count": 5,
   "metadata": {},
   "outputs": [],
   "source": [
    "# Grab each row\n",
    "containers = page_soup.findAll(\"tr\")"
   ]
  },
  {
   "cell_type": "code",
   "execution_count": 6,
   "metadata": {},
   "outputs": [
    {
     "data": {
      "text/plain": [
       "108"
      ]
     },
     "execution_count": 6,
     "metadata": {},
     "output_type": "execute_result"
    }
   ],
   "source": [
    "len(containers)"
   ]
  },
  {
   "cell_type": "code",
   "execution_count": 7,
   "metadata": {},
   "outputs": [
    {
     "data": {
      "text/plain": [
       "<tr>\n",
       "<th data-sort-type=\"number\">Rank\n",
       "</th>\n",
       "<th>Bank name\n",
       "</th>\n",
       "<th>Headquarters location\n",
       "</th>\n",
       "<th>Total assets (billions of US$)<sup class=\"reference\" id=\"cite_ref-1\"><a href=\"#cite_note-1\">[1]</a></sup>\n",
       "</th>\n",
       "<th>Market capitalization (billions of US$)<sup class=\"reference\" id=\"cite_ref-2\"><a href=\"#cite_note-2\">[2]</a></sup>\n",
       "</th></tr>"
      ]
     },
     "execution_count": 7,
     "metadata": {},
     "output_type": "execute_result"
    }
   ],
   "source": [
    "# Now we check what are in containers\n",
    "containers[0]"
   ]
  },
  {
   "cell_type": "code",
   "execution_count": 8,
   "metadata": {
    "scrolled": true
   },
   "outputs": [
    {
     "data": {
      "text/plain": [
       "<tr>\n",
       "<td>1\n",
       "</td>\n",
       "<td><a href=\"/wiki/JPMorgan_Chase\" title=\"JPMorgan Chase\">JPMorgan Chase</a>\n",
       "</td>\n",
       "<td><a href=\"/wiki/New_York_City\" title=\"New York City\">New York City</a>\n",
       "</td>\n",
       "<td>$2,590\n",
       "</td>\n",
       "<td>$384\n",
       "</td></tr>"
      ]
     },
     "execution_count": 8,
     "metadata": {},
     "output_type": "execute_result"
    }
   ],
   "source": [
    "containers[1]"
   ]
  },
  {
   "cell_type": "code",
   "execution_count": 9,
   "metadata": {},
   "outputs": [],
   "source": [
    "# We only want the banks, so we need some list slicing\n",
    "banks = containers[1:101]"
   ]
  },
  {
   "cell_type": "code",
   "execution_count": 10,
   "metadata": {},
   "outputs": [
    {
     "data": {
      "text/html": [
       "<div>\n",
       "<style scoped>\n",
       "    .dataframe tbody tr th:only-of-type {\n",
       "        vertical-align: middle;\n",
       "    }\n",
       "\n",
       "    .dataframe tbody tr th {\n",
       "        vertical-align: top;\n",
       "    }\n",
       "\n",
       "    .dataframe thead th {\n",
       "        text-align: right;\n",
       "    }\n",
       "</style>\n",
       "<table border=\"1\" class=\"dataframe\">\n",
       "  <thead>\n",
       "    <tr style=\"text-align: right;\">\n",
       "      <th></th>\n",
       "      <th>Rank</th>\n",
       "      <th>Bank Name</th>\n",
       "      <th>Headquarter Location</th>\n",
       "      <th>Total Assets (Billions of USD)</th>\n",
       "      <th>Market Capitalization (Billions of USD)</th>\n",
       "    </tr>\n",
       "  </thead>\n",
       "  <tbody>\n",
       "  </tbody>\n",
       "</table>\n",
       "</div>"
      ],
      "text/plain": [
       "Empty DataFrame\n",
       "Columns: [Rank, Bank Name, Headquarter Location, Total Assets (Billions of USD), Market Capitalization (Billions of USD)]\n",
       "Index: []"
      ]
     },
     "execution_count": 10,
     "metadata": {},
     "output_type": "execute_result"
    }
   ],
   "source": [
    "# Create a file to hold information\n",
    "df = pd.DataFrame(columns=[\"Rank\", \"Bank Name\", \"Headquarter Location\", \n",
    "                           \"Total Assets (Billions of USD)\", \n",
    "                           \"Market Capitalization (Billions of USD)\"])\n",
    "df"
   ]
  },
  {
   "cell_type": "code",
   "execution_count": 11,
   "metadata": {},
   "outputs": [],
   "source": [
    "f = open(\"commands.txt\", \"w\")"
   ]
  },
  {
   "cell_type": "code",
   "execution_count": 12,
   "metadata": {},
   "outputs": [],
   "source": [
    "for i in range(len(banks)):\n",
    "    bank = banks[i]\n",
    "    rank = int(bank.td.text)\n",
    "    \n",
    "    name = bank.findAll('td')[1].a[\"title\"]\n",
    "    name = list(name)\n",
    "    if '\\'' in name:\n",
    "        name.remove('\\'')\n",
    "    name = ''.join(name[:39])\n",
    "    \n",
    "    headquarter = bank.findAll('td')[2].a[\"title\"]\n",
    "    \n",
    "    asset = list(bank.findAll('td')[3].text[1:-1])\n",
    "    if \",\" in asset:\n",
    "        asset.remove(\",\")\n",
    "    asset = int(''.join(asset))\n",
    "    asset\n",
    "    \n",
    "    mc = list(bank.findAll('td')[4].text[1:-1])\n",
    "    if \",\" in mc:\n",
    "        mc.remove(\",\")\n",
    "    if \"A\" in mc or len(mc) == 0:\n",
    "        mc = -1\n",
    "    else:\n",
    "        mc = int(''.join(mc))\n",
    "        \n",
    "    f.write(\"INSERT INTO banks VALUE (%s, '%s', '%s', %s, %s);\\n\" %(rank, name, headquarter, asset, mc))\n",
    "    df.loc[i] = [rank, name, headquarter, asset, mc]\n",
    "\n",
    "f.close()"
   ]
  },
  {
   "cell_type": "code",
   "execution_count": 13,
   "metadata": {},
   "outputs": [
    {
     "data": {
      "text/html": [
       "<div>\n",
       "<style scoped>\n",
       "    .dataframe tbody tr th:only-of-type {\n",
       "        vertical-align: middle;\n",
       "    }\n",
       "\n",
       "    .dataframe tbody tr th {\n",
       "        vertical-align: top;\n",
       "    }\n",
       "\n",
       "    .dataframe thead th {\n",
       "        text-align: right;\n",
       "    }\n",
       "</style>\n",
       "<table border=\"1\" class=\"dataframe\">\n",
       "  <thead>\n",
       "    <tr style=\"text-align: right;\">\n",
       "      <th></th>\n",
       "      <th>Rank</th>\n",
       "      <th>Bank Name</th>\n",
       "      <th>Headquarter Location</th>\n",
       "      <th>Total Assets (Billions of USD)</th>\n",
       "      <th>Market Capitalization (Billions of USD)</th>\n",
       "    </tr>\n",
       "  </thead>\n",
       "  <tbody>\n",
       "    <tr>\n",
       "      <th>0</th>\n",
       "      <td>1</td>\n",
       "      <td>JPMorgan Chase</td>\n",
       "      <td>New York City</td>\n",
       "      <td>2590</td>\n",
       "      <td>384</td>\n",
       "    </tr>\n",
       "    <tr>\n",
       "      <th>1</th>\n",
       "      <td>2</td>\n",
       "      <td>Bank of America</td>\n",
       "      <td>Charlotte, North Carolina</td>\n",
       "      <td>2291</td>\n",
       "      <td>302</td>\n",
       "    </tr>\n",
       "    <tr>\n",
       "      <th>2</th>\n",
       "      <td>3</td>\n",
       "      <td>Citigroup</td>\n",
       "      <td>New York City</td>\n",
       "      <td>1912</td>\n",
       "      <td>174</td>\n",
       "    </tr>\n",
       "    <tr>\n",
       "      <th>3</th>\n",
       "      <td>4</td>\n",
       "      <td>Wells Fargo</td>\n",
       "      <td>San Francisco</td>\n",
       "      <td>1879</td>\n",
       "      <td>273</td>\n",
       "    </tr>\n",
       "    <tr>\n",
       "      <th>4</th>\n",
       "      <td>5</td>\n",
       "      <td>Goldman Sachs</td>\n",
       "      <td>New York City</td>\n",
       "      <td>968</td>\n",
       "      <td>87</td>\n",
       "    </tr>\n",
       "  </tbody>\n",
       "</table>\n",
       "</div>"
      ],
      "text/plain": [
       "  Rank        Bank Name       Headquarter Location  \\\n",
       "0    1   JPMorgan Chase              New York City   \n",
       "1    2  Bank of America  Charlotte, North Carolina   \n",
       "2    3        Citigroup              New York City   \n",
       "3    4      Wells Fargo              San Francisco   \n",
       "4    5    Goldman Sachs              New York City   \n",
       "\n",
       "  Total Assets (Billions of USD) Market Capitalization (Billions of USD)  \n",
       "0                           2590                                     384  \n",
       "1                           2291                                     302  \n",
       "2                           1912                                     174  \n",
       "3                           1879                                     273  \n",
       "4                            968                                      87  "
      ]
     },
     "execution_count": 13,
     "metadata": {},
     "output_type": "execute_result"
    }
   ],
   "source": [
    "df.head()"
   ]
  },
  {
   "cell_type": "code",
   "execution_count": 14,
   "metadata": {},
   "outputs": [],
   "source": [
    "df.to_csv(\"banks.csv\", index = False)"
   ]
  },
  {
   "cell_type": "code",
   "execution_count": 15,
   "metadata": {},
   "outputs": [
    {
     "data": {
      "text/html": [
       "<div>\n",
       "<style scoped>\n",
       "    .dataframe tbody tr th:only-of-type {\n",
       "        vertical-align: middle;\n",
       "    }\n",
       "\n",
       "    .dataframe tbody tr th {\n",
       "        vertical-align: top;\n",
       "    }\n",
       "\n",
       "    .dataframe thead th {\n",
       "        text-align: right;\n",
       "    }\n",
       "</style>\n",
       "<table border=\"1\" class=\"dataframe\">\n",
       "  <thead>\n",
       "    <tr style=\"text-align: right;\">\n",
       "      <th></th>\n",
       "      <th>Rank</th>\n",
       "      <th>Bank Name</th>\n",
       "      <th>Headquarter Location</th>\n",
       "      <th>Total Assets (Billions of USD)</th>\n",
       "      <th>Market Capitalization (Billions of USD)</th>\n",
       "    </tr>\n",
       "  </thead>\n",
       "  <tbody>\n",
       "    <tr>\n",
       "      <th>0</th>\n",
       "      <td>1</td>\n",
       "      <td>JPMorgan Chase</td>\n",
       "      <td>New York City</td>\n",
       "      <td>2590</td>\n",
       "      <td>384</td>\n",
       "    </tr>\n",
       "    <tr>\n",
       "      <th>1</th>\n",
       "      <td>2</td>\n",
       "      <td>Bank of America</td>\n",
       "      <td>Charlotte, North Carolina</td>\n",
       "      <td>2291</td>\n",
       "      <td>302</td>\n",
       "    </tr>\n",
       "    <tr>\n",
       "      <th>2</th>\n",
       "      <td>3</td>\n",
       "      <td>Citigroup</td>\n",
       "      <td>New York City</td>\n",
       "      <td>1912</td>\n",
       "      <td>174</td>\n",
       "    </tr>\n",
       "    <tr>\n",
       "      <th>3</th>\n",
       "      <td>4</td>\n",
       "      <td>Wells Fargo</td>\n",
       "      <td>San Francisco</td>\n",
       "      <td>1879</td>\n",
       "      <td>273</td>\n",
       "    </tr>\n",
       "    <tr>\n",
       "      <th>4</th>\n",
       "      <td>5</td>\n",
       "      <td>Goldman Sachs</td>\n",
       "      <td>New York City</td>\n",
       "      <td>968</td>\n",
       "      <td>87</td>\n",
       "    </tr>\n",
       "  </tbody>\n",
       "</table>\n",
       "</div>"
      ],
      "text/plain": [
       "   Rank        Bank Name       Headquarter Location  \\\n",
       "0     1   JPMorgan Chase              New York City   \n",
       "1     2  Bank of America  Charlotte, North Carolina   \n",
       "2     3        Citigroup              New York City   \n",
       "3     4      Wells Fargo              San Francisco   \n",
       "4     5    Goldman Sachs              New York City   \n",
       "\n",
       "   Total Assets (Billions of USD)  Market Capitalization (Billions of USD)  \n",
       "0                            2590                                      384  \n",
       "1                            2291                                      302  \n",
       "2                            1912                                      174  \n",
       "3                            1879                                      273  \n",
       "4                             968                                       87  "
      ]
     },
     "execution_count": 15,
     "metadata": {},
     "output_type": "execute_result"
    }
   ],
   "source": [
    "pd.read_csv(\"banks.csv\").head()"
   ]
  },
  {
   "cell_type": "code",
   "execution_count": null,
   "metadata": {},
   "outputs": [],
   "source": []
  }
 ],
 "metadata": {
  "kernelspec": {
   "display_name": "Python 3",
   "language": "python",
   "name": "python3"
  },
  "language_info": {
   "codemirror_mode": {
    "name": "ipython",
    "version": 3
   },
   "file_extension": ".py",
   "mimetype": "text/x-python",
   "name": "python",
   "nbconvert_exporter": "python",
   "pygments_lexer": "ipython3",
   "version": "3.6.5"
  }
 },
 "nbformat": 4,
 "nbformat_minor": 2
}
